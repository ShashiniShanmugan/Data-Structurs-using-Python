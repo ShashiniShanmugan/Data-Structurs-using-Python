{
  "nbformat": 4,
  "nbformat_minor": 0,
  "metadata": {
    "colab": {
      "provenance": []
    },
    "kernelspec": {
      "name": "python3",
      "display_name": "Python 3"
    },
    "language_info": {
      "name": "python"
    }
  },
  "cells": [
    {
      "cell_type": "code",
      "execution_count": null,
      "metadata": {
        "colab": {
          "base_uri": "https://localhost:8080/"
        },
        "id": "hR7jUOrAbxT4",
        "outputId": "e5979a33-5885-41cc-e1f3-9f5f1f24a6cc"
      },
      "outputs": [
        {
          "output_type": "execute_result",
          "data": {
            "text/plain": [
              "(10, 50)"
            ]
          },
          "metadata": {},
          "execution_count": 7
        }
      ],
      "source": [
        "#find the largest and smallest element in an array\n",
        "import numpy as np\n",
        "x = np.array([10,20,30,40,50])\n",
        "def min_max(x):\n",
        "  min_e = np.min(x)\n",
        "  max_e = np.max(x)\n",
        "  return min_e, max_e\n",
        "min_max(x)"
      ]
    },
    {
      "cell_type": "code",
      "source": [],
      "metadata": {
        "id": "CMPUFMH8csIQ"
      },
      "execution_count": null,
      "outputs": []
    }
  ]
}