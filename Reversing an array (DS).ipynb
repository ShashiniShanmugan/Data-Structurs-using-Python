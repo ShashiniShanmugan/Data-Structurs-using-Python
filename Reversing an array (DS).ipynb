{
  "nbformat": 4,
  "nbformat_minor": 0,
  "metadata": {
    "colab": {
      "provenance": []
    },
    "kernelspec": {
      "name": "python3",
      "display_name": "Python 3"
    },
    "language_info": {
      "name": "python"
    }
  },
  "cells": [
    {
      "cell_type": "code",
      "execution_count": 1,
      "metadata": {
        "colab": {
          "base_uri": "https://localhost:8080/"
        },
        "id": "dZmALyErRUFJ",
        "outputId": "dc831c01-590d-4ba4-9814-da6c56370e25"
      },
      "outputs": [
        {
          "output_type": "stream",
          "name": "stdout",
          "text": [
            "[50 40 30 20 10]\n"
          ]
        }
      ],
      "source": [
        "#Reversing an array. (slicing method)\n",
        "import numpy as np\n",
        "x = np.array([10,20,30,40,50])\n",
        "print(x[::-1])\n"
      ]
    },
    {
      "cell_type": "code",
      "source": [
        "#Reversing an array using for loop\n",
        "import numpy as np\n",
        "x = np.array([10,20,30,40,50])\n",
        "n = len(x)\n",
        "for i in range(n-1,-1,-1):   #looping method    #range(start value,stop value,step value)\n",
        "  print(x[i])"
      ],
      "metadata": {
        "colab": {
          "base_uri": "https://localhost:8080/"
        },
        "id": "cH-18HgiSL3Z",
        "outputId": "9fda79d8-a115-4e0f-90c1-7cb96d78f6f4"
      },
      "execution_count": 2,
      "outputs": [
        {
          "output_type": "stream",
          "name": "stdout",
          "text": [
            "50\n",
            "40\n",
            "30\n",
            "20\n",
            "10\n"
          ]
        }
      ]
    }
  ]
}