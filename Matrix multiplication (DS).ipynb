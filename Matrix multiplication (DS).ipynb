{
  "nbformat": 4,
  "nbformat_minor": 0,
  "metadata": {
    "colab": {
      "provenance": []
    },
    "kernelspec": {
      "name": "python3",
      "display_name": "Python 3"
    },
    "language_info": {
      "name": "python"
    }
  },
  "cells": [
    {
      "cell_type": "code",
      "source": [
        "import numpy as np\n",
        "x1 = np.array([ [1,2,3] , [4,5,6], [7,8,9] ])\n",
        "x2 = np.array([ [10,20,30] , [40,50,60] , [70,80,90] ])\n",
        "result = np.dot(x1,x2)\n",
        "print(result)"
      ],
      "metadata": {
        "colab": {
          "base_uri": "https://localhost:8080/"
        },
        "id": "XhCg21zBk5Q7",
        "outputId": "73eeeb86-914c-464f-d6e9-34def47de6ad"
      },
      "execution_count": 1,
      "outputs": [
        {
          "output_type": "stream",
          "name": "stdout",
          "text": [
            "[[ 300  360  420]\n",
            " [ 660  810  960]\n",
            " [1020 1260 1500]]\n"
          ]
        }
      ]
    }
  ]
}