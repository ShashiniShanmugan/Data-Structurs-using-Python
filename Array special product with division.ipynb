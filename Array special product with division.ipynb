{
  "nbformat": 4,
  "nbformat_minor": 0,
  "metadata": {
    "colab": {
      "provenance": []
    },
    "kernelspec": {
      "name": "python3",
      "display_name": "Python 3"
    },
    "language_info": {
      "name": "python"
    }
  },
  "cells": [
    {
      "cell_type": "code",
      "execution_count": 4,
      "metadata": {
        "colab": {
          "base_uri": "https://localhost:8080/"
        },
        "id": "0wy6630JbW2U",
        "outputId": "49a390c6-8c7e-4dbb-dfa9-a0c870d17dce"
      },
      "outputs": [
        {
          "output_type": "stream",
          "name": "stdout",
          "text": [
            "original array: [1 2 3 4 5]\n",
            "Product array: [120, 60, 40, 30, 24]\n"
          ]
        }
      ],
      "source": [
        "#array special product with division\n",
        "import numpy as np\n",
        "import math\n",
        "x = np.array([1,2,3,4,5])\n",
        "def pro_ExceptSelf_div(x):\n",
        "    total_product = math.prod(x)\n",
        "    prod_arr = []\n",
        "    for i in x:\n",
        "        prod_arr.append(total_product//i)\n",
        "    return prod_arr\n",
        "print(\"original array:\",x)\n",
        "prod_arr = pro_ExceptSelf_div(x)\n",
        "print(\"Product array:\",prod_arr)"
      ]
    }
  ]
}