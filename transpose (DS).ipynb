{
  "nbformat": 4,
  "nbformat_minor": 0,
  "metadata": {
    "colab": {
      "provenance": []
    },
    "kernelspec": {
      "name": "python3",
      "display_name": "Python 3"
    },
    "language_info": {
      "name": "python"
    }
  },
  "cells": [
    {
      "cell_type": "code",
      "execution_count": 1,
      "metadata": {
        "colab": {
          "base_uri": "https://localhost:8080/"
        },
        "id": "hux5MqHglKuz",
        "outputId": "08675f52-6785-481c-bd5a-9665685b0ea7"
      },
      "outputs": [
        {
          "output_type": "stream",
          "name": "stdout",
          "text": [
            "[[1 4]\n",
            " [2 5]\n",
            " [3 6]]\n"
          ]
        }
      ],
      "source": [
        "import numpy as np\n",
        "x1 = np.array([ [1,2,3] , [4,5,6] ])\n",
        "result = np.transpose(x1)\n",
        "print(result)"
      ]
    }
  ]
}