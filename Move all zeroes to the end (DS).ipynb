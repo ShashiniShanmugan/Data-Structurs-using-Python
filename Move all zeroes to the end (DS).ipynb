{
  "nbformat": 4,
  "nbformat_minor": 0,
  "metadata": {
    "colab": {
      "provenance": []
    },
    "kernelspec": {
      "name": "python3",
      "display_name": "Python 3"
    },
    "language_info": {
      "name": "python"
    }
  },
  "cells": [
    {
      "cell_type": "code",
      "execution_count": 3,
      "metadata": {
        "colab": {
          "base_uri": "https://localhost:8080/"
        },
        "id": "lR6D9o7L-NJ1",
        "outputId": "0bb9f6be-1277-4257-d461-7e1a6db126f2"
      },
      "outputs": [
        {
          "output_type": "stream",
          "name": "stdout",
          "text": [
            "[1, 1, 1, 1, 0, 0, 0, 0, 0]\n"
          ]
        }
      ],
      "source": [
        "import numpy as np\n",
        "x = np.array([0,1,1,0,1,0,1,0,0])\n",
        "def last1_occur(x):\n",
        "  store = 0\n",
        "  count = 0\n",
        "  n = len(x)\n",
        "  for i in x:\n",
        "    if i == 1:\n",
        "      store += i\n",
        "    else:\n",
        "      count += 1\n",
        "  return ( [1]*store)+([0]*count)\n",
        "print(last1_occur(x))"
      ]
    }
  ]
}