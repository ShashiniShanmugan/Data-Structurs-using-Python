{
  "nbformat": 4,
  "nbformat_minor": 0,
  "metadata": {
    "colab": {
      "provenance": []
    },
    "kernelspec": {
      "name": "python3",
      "display_name": "Python 3"
    },
    "language_info": {
      "name": "python"
    }
  },
  "cells": [
    {
      "cell_type": "code",
      "execution_count": 1,
      "metadata": {
        "colab": {
          "base_uri": "https://localhost:8080/"
        },
        "id": "UmLyleHmfySg",
        "outputId": "f2783e37-5674-4d8c-8e5d-a988b749d16e"
      },
      "outputs": [
        {
          "output_type": "stream",
          "name": "stdout",
          "text": [
            "Enter the target:30\n",
            "the index position of target: 2\n"
          ]
        }
      ],
      "source": [
        "import numpy as np\n",
        "arr=np.array([10,20,30,40,50,60])\n",
        "target = int(input(\"Enter the target:\"))\n",
        "Low=0\n",
        "High = len(arr) - 1\n",
        "found_index=-1\n",
        "while Low<= High:\n",
        "    mid=(Low+High)//2\n",
        "    if arr[mid] == target:\n",
        "        found_index = mid\n",
        "        break\n",
        "    elif arr[mid] < target:\n",
        "       Low = mid + 1\n",
        "    else:\n",
        "        High = mid - 1\n",
        "\n",
        "if found_index != -1:\n",
        "    print(\"the index position of target:\",found_index)\n",
        "else:\n",
        "    print(\"Target not found\")"
      ]
    }
  ]
}