{
  "nbformat": 4,
  "nbformat_minor": 0,
  "metadata": {
    "colab": {
      "provenance": []
    },
    "kernelspec": {
      "name": "python3",
      "display_name": "Python 3"
    },
    "language_info": {
      "name": "python"
    }
  },
  "cells": [
    {
      "cell_type": "code",
      "execution_count": 1,
      "metadata": {
        "colab": {
          "base_uri": "https://localhost:8080/"
        },
        "id": "R_tQUU5UYXK1",
        "outputId": "e151af94-94a8-481a-eacd-5ca3653cdc37"
      },
      "outputs": [
        {
          "output_type": "stream",
          "name": "stdout",
          "text": [
            "10\n",
            "40\n"
          ]
        }
      ],
      "source": [
        "#accessing the elements\n",
        "import array as arr\n",
        "x = arr.array('i',[10,20,30,40,50])\n",
        "print(x[0]) #accessing the elements\n",
        "print(x[3])\n"
      ]
    },
    {
      "cell_type": "code",
      "source": [
        "import numpy as np\n",
        "x = np.array([10,20,30,40,50])\n",
        "print(x[0])\n",
        "print(x[2])"
      ],
      "metadata": {
        "colab": {
          "base_uri": "https://localhost:8080/"
        },
        "id": "Xa6Fn8VnYy7z",
        "outputId": "345b603c-cb44-4375-87d5-492dcfc1a209"
      },
      "execution_count": 2,
      "outputs": [
        {
          "output_type": "stream",
          "name": "stdout",
          "text": [
            "10\n",
            "30\n"
          ]
        }
      ]
    },
    {
      "cell_type": "code",
      "source": [
        "import array as arr\n",
        "x = arr.array('i',[10,20,30,40,50])\n",
        "x.insert(2,80) #insert operation\n",
        "print(x)"
      ],
      "metadata": {
        "colab": {
          "base_uri": "https://localhost:8080/"
        },
        "id": "WM2PEsmIZPbI",
        "outputId": "21e4f80f-fc91-462f-f1f6-42c73b88179c"
      },
      "execution_count": 3,
      "outputs": [
        {
          "output_type": "stream",
          "name": "stdout",
          "text": [
            "array('i', [10, 20, 80, 30, 40, 50])\n"
          ]
        }
      ]
    },
    {
      "cell_type": "code",
      "source": [
        "#insertion\n",
        "import numpy as np\n",
        "y = np.array([10,20,30,40,50])\n",
        "z = np.insert(y,2,100)   #(#array/variable name, index position and element)\n",
        "print(z)"
      ],
      "metadata": {
        "colab": {
          "base_uri": "https://localhost:8080/"
        },
        "id": "WtahvlZ9Zght",
        "outputId": "9ba1525c-17d1-4e2b-b13b-4365bfd1e50a"
      },
      "execution_count": 5,
      "outputs": [
        {
          "output_type": "stream",
          "name": "stdout",
          "text": [
            "[ 10  20 100  30  40  50]\n"
          ]
        }
      ]
    },
    {
      "cell_type": "code",
      "source": [
        "#deletion/remove operation\n",
        "import array as arr\n",
        "x = arr.array('i',[10,20,30,40,50])\n",
        "x.remove(40)\n",
        "print(x)"
      ],
      "metadata": {
        "colab": {
          "base_uri": "https://localhost:8080/"
        },
        "id": "eso3lMsbaVXj",
        "outputId": "a754e0b4-4bd2-4133-c1da-0b742b391105"
      },
      "execution_count": 6,
      "outputs": [
        {
          "output_type": "stream",
          "name": "stdout",
          "text": [
            "array('i', [10, 20, 30, 50])\n"
          ]
        }
      ]
    },
    {
      "cell_type": "code",
      "source": [
        "#search operation\n",
        "import array as arr\n",
        "x = arr.array('i',[10,20,30,40,50])\n",
        "print(x.index(50))\n"
      ],
      "metadata": {
        "colab": {
          "base_uri": "https://localhost:8080/"
        },
        "id": "ck-4D5UwarQL",
        "outputId": "759b41c5-397a-4918-e8f6-f261f69f8be5"
      },
      "execution_count": 9,
      "outputs": [
        {
          "output_type": "stream",
          "name": "stdout",
          "text": [
            "4\n"
          ]
        }
      ]
    },
    {
      "cell_type": "code",
      "source": [
        "#update operation.\n",
        "x[0]=100\n",
        "print(x)"
      ],
      "metadata": {
        "colab": {
          "base_uri": "https://localhost:8080/"
        },
        "id": "N0wmXJc4bFiU",
        "outputId": "364d68e5-00b6-41aa-ceae-958b6f0ddf06"
      },
      "execution_count": 11,
      "outputs": [
        {
          "output_type": "stream",
          "name": "stdout",
          "text": [
            "array('i', [100, 20, 30, 40, 50])\n"
          ]
        }
      ]
    },
    {
      "cell_type": "code",
      "source": [],
      "metadata": {
        "id": "AMgDHzeGba6S"
      },
      "execution_count": null,
      "outputs": []
    }
  ]
}