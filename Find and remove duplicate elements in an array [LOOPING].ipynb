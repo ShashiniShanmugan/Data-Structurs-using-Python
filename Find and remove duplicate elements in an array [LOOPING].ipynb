{
  "nbformat": 4,
  "nbformat_minor": 0,
  "metadata": {
    "colab": {
      "provenance": []
    },
    "kernelspec": {
      "name": "python3",
      "display_name": "Python 3"
    },
    "language_info": {
      "name": "python"
    }
  },
  "cells": [
    {
      "cell_type": "code",
      "execution_count": 5,
      "metadata": {
        "id": "q-I8ISEIfTaE",
        "colab": {
          "base_uri": "https://localhost:8080/"
        },
        "outputId": "85490f94-0ef9-4877-cdf9-630e5e503e6a"
      },
      "outputs": [
        {
          "output_type": "stream",
          "name": "stdout",
          "text": [
            "<class 'numpy.ndarray'>\n",
            "[ 10  20  30  40  50   0 100]\n"
          ]
        }
      ],
      "source": [
        "#find the remove duplicate elements in an array [LOOPING]\n",
        "# using loooping and membership operator\n",
        "import numpy as np\n",
        "x=np.array([10,20,30,40,50,10,0,30,100])\n",
        "def r_dup(x):\n",
        "    new_arr=[]\n",
        "    for i in x:\n",
        "        if i not in new_arr:\n",
        "            new_arr.append(i)\n",
        "    return np.array(new_arr)\n",
        "result=r_dup(x)\n",
        "print(type(result))\n",
        "print(result)\n",
        "\n"
      ]
    },
    {
      "cell_type": "code",
      "source": [
        "#type conversion\n",
        "x = np.array([10,20,30,40,50,10,0,30,100])\n",
        "def r_dup(x):\n",
        "  res = list(set(x)) #type conversion\n",
        "  return np.array(res)\n",
        "\n",
        "result = r_dup(x)\n",
        "type(result)\n",
        "print(result)"
      ],
      "metadata": {
        "colab": {
          "base_uri": "https://localhost:8080/"
        },
        "id": "nI-cXKr7hiNc",
        "outputId": "b2439009-ab1e-460f-f3a3-9f351bb164b9"
      },
      "execution_count": 4,
      "outputs": [
        {
          "output_type": "stream",
          "name": "stdout",
          "text": [
            "[  0 100  40  10  50  20  30]\n"
          ]
        }
      ]
    }
  ]
}