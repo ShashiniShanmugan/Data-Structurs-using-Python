{
  "nbformat": 4,
  "nbformat_minor": 0,
  "metadata": {
    "colab": {
      "provenance": []
    },
    "kernelspec": {
      "name": "python3",
      "display_name": "Python 3"
    },
    "language_info": {
      "name": "python"
    }
  },
  "cells": [
    {
      "cell_type": "code",
      "source": [
        "import numpy as np\n",
        "x1 = np.array([ [1,2,3],[4,5,6],[7,8,9] ])\n",
        "x2 = np.array([ [10,20,30] , [40,50,60] , [70,80,90] ])\n",
        "\n",
        "result= []\n",
        "for i in range(len(x1)):\n",
        "  row = []\n",
        "  for j in range(len(x1[0])):\n",
        "    row.append(x1[i][j] + x2[i][j])\n",
        "  result.append(row)\n",
        "\n",
        "  #print the result\n",
        "  for i in result:\n",
        "      for j in i:\n",
        "          print(j, end=\" \")\n",
        "\n",
        "      print()"
      ],
      "metadata": {
        "colab": {
          "base_uri": "https://localhost:8080/"
        },
        "id": "rnuN3sEsiI4f",
        "outputId": "7f3c8c44-c7f4-4978-c95d-060f9a043bd3"
      },
      "execution_count": 7,
      "outputs": [
        {
          "output_type": "stream",
          "name": "stdout",
          "text": [
            "11 22 33 \n",
            "11 22 33 \n",
            "44 55 66 \n",
            "11 22 33 \n",
            "44 55 66 \n",
            "77 88 99 \n"
          ]
        }
      ]
    }
  ]
}