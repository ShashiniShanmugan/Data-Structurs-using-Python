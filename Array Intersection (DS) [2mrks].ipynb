{
  "nbformat": 4,
  "nbformat_minor": 0,
  "metadata": {
    "colab": {
      "provenance": []
    },
    "kernelspec": {
      "name": "python3",
      "display_name": "Python 3"
    },
    "language_info": {
      "name": "python"
    }
  },
  "cells": [
    {
      "cell_type": "code",
      "execution_count": 10,
      "metadata": {
        "colab": {
          "base_uri": "https://localhost:8080/"
        },
        "id": "-BBxBlDKe7kA",
        "outputId": "e566ec8a-13eb-44b7-d91e-7cf38661a0f0"
      },
      "outputs": [
        {
          "output_type": "stream",
          "name": "stdout",
          "text": [
            "common elemets: [[4]\n",
            " [5]]\n"
          ]
        }
      ],
      "source": [
        "#Array Intersection\n",
        "#Given two arrays, write a Python function to  find the intersection of both arrays(i.e., common elements).\n",
        "\n",
        "import numpy as np\n",
        "x = np.array([1,2,3,4,5])\n",
        "y = np.array([4,5,6,7,8])\n",
        "def arr_common(x,y):\n",
        "  common=[]\n",
        "  for i in x:\n",
        "    if i in y and i not in common:\n",
        "       common.append([i])\n",
        "  return np.array(common)\n",
        "print(\"common elemets:\",arr_common(x,y))"
      ]
    }
  ]
}