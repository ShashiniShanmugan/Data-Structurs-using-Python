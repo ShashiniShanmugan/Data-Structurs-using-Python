{
  "nbformat": 4,
  "nbformat_minor": 0,
  "metadata": {
    "colab": {
      "provenance": []
    },
    "kernelspec": {
      "name": "python3",
      "display_name": "Python 3"
    },
    "language_info": {
      "name": "python"
    }
  },
  "cells": [
    {
      "cell_type": "code",
      "execution_count": 3,
      "metadata": {
        "colab": {
          "base_uri": "https://localhost:8080/"
        },
        "id": "z-M2Mh4JbPjh",
        "outputId": "71d9e938-bbe7-4d18-8c64-c5b3f0b5fca2"
      },
      "outputs": [
        {
          "output_type": "stream",
          "name": "stdout",
          "text": [
            "[0, 0, 1, 1, 1]\n"
          ]
        }
      ],
      "source": [
        "#Binary Array Sorting\n",
        "import numpy as np\n",
        "\n",
        "x = np.array([0,0,1,1,1])\n",
        "def last1_occur(x):\n",
        "    store = 0\n",
        "    count = 0\n",
        "    n = len(x)\n",
        "    i = 1 - n\n",
        "\n",
        "\n",
        "    for i in x:\n",
        "      if i == 1:\n",
        "        store += i\n",
        "      else:\n",
        "        count += 1\n",
        "\n",
        "\n",
        "    return [0]*count + [1]*store\n",
        "print(last1_occur(x))"
      ]
    }
  ]
}