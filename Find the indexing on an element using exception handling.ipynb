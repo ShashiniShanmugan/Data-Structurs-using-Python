{
  "nbformat": 4,
  "nbformat_minor": 0,
  "metadata": {
    "colab": {
      "provenance": []
    },
    "kernelspec": {
      "name": "python3",
      "display_name": "Python 3"
    },
    "language_info": {
      "name": "python"
    }
  },
  "cells": [
    {
      "cell_type": "code",
      "execution_count": 5,
      "metadata": {
        "colab": {
          "base_uri": "https://localhost:8080/"
        },
        "id": "4WwUuq53UNXr",
        "outputId": "38c973da-aea0-461b-91e1-96f9c4a77f54"
      },
      "outputs": [
        {
          "output_type": "stream",
          "name": "stdout",
          "text": [
            "20\n",
            "1\n"
          ]
        }
      ],
      "source": [
        "#find the indexing on an element using exception handling\n",
        "import numpy as np\n",
        "x = np.array([10,20,30,40,50])\n",
        "def i_ele(x,s_ele):\n",
        "  try:\n",
        "    n = len(x)\n",
        "    for i in range(n):\n",
        "        if x[i] == s_ele:   #searching element\n",
        "           return i\n",
        "    raise ValueError(\"Element not found\")\n",
        "  except ValueError:\n",
        "     return -1\n",
        "s_ele = int(input())\n",
        "result = i_ele(x,s_ele)\n",
        "print(result)"
      ]
    }
  ]
}