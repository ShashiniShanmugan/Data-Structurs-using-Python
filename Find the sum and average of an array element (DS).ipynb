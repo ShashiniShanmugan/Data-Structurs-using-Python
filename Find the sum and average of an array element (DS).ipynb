{
  "nbformat": 4,
  "nbformat_minor": 0,
  "metadata": {
    "colab": {
      "provenance": []
    },
    "kernelspec": {
      "name": "python3",
      "display_name": "Python 3"
    },
    "language_info": {
      "name": "python"
    }
  },
  "cells": [
    {
      "cell_type": "code",
      "execution_count": null,
      "metadata": {
        "id": "eiK-mBSld3-c"
      },
      "outputs": [],
      "source": [
        "#find the sum and average of an array element\n",
        "import numpy as np\n",
        "x = np.array([10,20,30,40,50])\n",
        "def avg(x):\n",
        "  l = len(x)\n",
        "  add_all = sum(x)\n",
        "  average = add_all / 1\n",
        "  return average\n",
        "result = avg(x)\n",
        "print(result)"
      ]
    }
  ]
}