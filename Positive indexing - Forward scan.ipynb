{
  "nbformat": 4,
  "nbformat_minor": 0,
  "metadata": {
    "colab": {
      "provenance": []
    },
    "kernelspec": {
      "name": "python3",
      "display_name": "Python 3"
    },
    "language_info": {
      "name": "python"
    }
  },
  "cells": [
    {
      "cell_type": "code",
      "execution_count": 2,
      "metadata": {
        "colab": {
          "base_uri": "https://localhost:8080/"
        },
        "id": "vYvHPm4s5fG6",
        "outputId": "23830e09-6fd2-4a0b-acf2-9f370bd37a55"
      },
      "outputs": [
        {
          "output_type": "stream",
          "name": "stdout",
          "text": [
            "10\n",
            "5\n"
          ]
        }
      ],
      "source": [
        "#positive indexing - forward scan\n",
        "import numpy as np\n",
        "x = np.array([11,15,26,38,9,10])\n",
        "target = int(input())\n",
        "def positive_index(x,target):\n",
        "  n = len(x)\n",
        "  for i in range(n):\n",
        "    if x[i] == target:\n",
        "      print(i)\n",
        "\n",
        "positive_index(x,target)\n"
      ]
    }
  ]
}