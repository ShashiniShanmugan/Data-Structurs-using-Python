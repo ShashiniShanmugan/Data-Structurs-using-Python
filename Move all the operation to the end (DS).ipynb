{
  "nbformat": 4,
  "nbformat_minor": 0,
  "metadata": {
    "colab": {
      "provenance": []
    },
    "kernelspec": {
      "name": "python3",
      "display_name": "Python 3"
    },
    "language_info": {
      "name": "python"
    }
  },
  "cells": [
    {
      "cell_type": "code",
      "execution_count": 1,
      "metadata": {
        "colab": {
          "base_uri": "https://localhost:8080/"
        },
        "id": "E6MVxEiEpDG6",
        "outputId": "7efd06c6-7987-4592-9816-747594d92d99"
      },
      "outputs": [
        {
          "output_type": "stream",
          "name": "stdout",
          "text": [
            "output: [1, 1, 1, 1, 1, 0, 0, 0]\n"
          ]
        }
      ],
      "source": [
        "import numpy as np\n",
        "x = np.array([0, 1, 0, 1, 0, 1, 1, 1])\n",
        "def Move_Zero_end(x):\n",
        "    Count_0 = 0\n",
        "    Store_1 = 0\n",
        "    i = len(x)-1\n",
        "    while i >= 0:\n",
        "        if x[i] == 1:\n",
        "            Store_1 += 1\n",
        "        else:\n",
        "            Count_0 += 1\n",
        "        i -= 1\n",
        "    result = [1] * Store_1 + [0] * Count_0\n",
        "    return result\n",
        "print(\"output:\", Move_Zero_end(x))"
      ]
    }
  ]
}