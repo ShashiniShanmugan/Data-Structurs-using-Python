{
  "nbformat": 4,
  "nbformat_minor": 0,
  "metadata": {
    "colab": {
      "provenance": []
    },
    "kernelspec": {
      "name": "python3",
      "display_name": "Python 3"
    },
    "language_info": {
      "name": "python"
    }
  },
  "cells": [
    {
      "cell_type": "code",
      "execution_count": 15,
      "metadata": {
        "colab": {
          "base_uri": "https://localhost:8080/"
        },
        "id": "sVvD9Yc-WjzY",
        "outputId": "eef9631f-da07-44a3-a5ba-b13c8b9ca33b"
      },
      "outputs": [
        {
          "output_type": "stream",
          "name": "stdout",
          "text": [
            "[120, 60, 40, 30, 24]\n"
          ]
        }
      ],
      "source": [
        "#array special product without division\n",
        "import numpy as np\n",
        "x = np.array([1,2,3,4,5])\n",
        "def pro_ExceptSelf(x):\n",
        "   n = len(x)\n",
        "   res = [1]*n\n",
        "   for i in range(n):\n",
        "     for j in range(n):\n",
        "      if i != j:\n",
        "        res[i] *= x[j]\n",
        "   return res\n",
        "\n",
        "res = pro_ExceptSelf(x)\n",
        "print(res)\n"
      ]
    }
  ]
}