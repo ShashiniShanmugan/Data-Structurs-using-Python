{
  "nbformat": 4,
  "nbformat_minor": 0,
  "metadata": {
    "colab": {
      "provenance": []
    },
    "kernelspec": {
      "name": "python3",
      "display_name": "Python 3"
    },
    "language_info": {
      "name": "python"
    }
  },
  "cells": [
    {
      "cell_type": "code",
      "execution_count": 2,
      "metadata": {
        "colab": {
          "base_uri": "https://localhost:8080/"
        },
        "id": "X1YeS_Ty4QXu",
        "outputId": "97833d45-bce2-47d8-eca5-9f9b2bfa66ae"
      },
      "outputs": [
        {
          "output_type": "stream",
          "name": "stdout",
          "text": [
            "last index of one: 6\n"
          ]
        }
      ],
      "source": [
        "#Last Index of One/last occurence of one\n",
        "import numpy as np\n",
        "x = np.array([0,1,1,0,1,0,1,0,0])\n",
        "def last1_occur(x):\n",
        "  index = -1\n",
        "  n = len(x)\n",
        "  for i in range(n):\n",
        "    if x[i] == 1:\n",
        "      index = i\n",
        "  return index\n",
        "print(\"last index of one:\",last1_occur(x))\n"
      ]
    }
  ]
}