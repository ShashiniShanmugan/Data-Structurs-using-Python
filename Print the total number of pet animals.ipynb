{
  "nbformat": 4,
  "nbformat_minor": 0,
  "metadata": {
    "colab": {
      "provenance": []
    },
    "kernelspec": {
      "name": "python3",
      "display_name": "Python 3"
    },
    "language_info": {
      "name": "python"
    }
  },
  "cells": [
    {
      "cell_type": "code",
      "execution_count": 3,
      "metadata": {
        "colab": {
          "base_uri": "https://localhost:8080/"
        },
        "id": "faWW5eH-lKfI",
        "outputId": "a6df1d42-372e-4d12-a5fb-657af39e2c73"
      },
      "outputs": [
        {
          "output_type": "stream",
          "name": "stdout",
          "text": [
            "2\n"
          ]
        }
      ],
      "source": [
        "class PetAnimals:\n",
        "    count = 0\n",
        "    def __init__(self, n=' ', wgt=0, clr=' '):    #method1(object initialization)\n",
        "        self.name = n\n",
        "        self.weight = wgt\n",
        "        self.color = clr\n",
        "        PetAnimals.count += 1\n",
        "\n",
        "    def display(self):\n",
        "        print(\"Total number of Pet Animals:\", PetAnimals.count)\n",
        "\n",
        "#Instance of object\n",
        "p1 = PetAnimals(\"Dookie\",25,\"White\")\n",
        "p2 = PetAnimals(\"Gookie\",30,\"Brown\")\n",
        "\n",
        "print(PetAnimals.count)"
      ]
    },
    {
      "cell_type": "code",
      "source": [
        "class Pet:\n",
        "   count=0\n",
        "   def __init__(self,n=' '):\n",
        "    self.name=n\n",
        "    Pet.count+=1\n",
        "   def display(self):\n",
        "    print(Pet.count)\n",
        "#instance of object\n",
        "p1=Pet(\"XXXX\")\n",
        "p2=Pet(\"YYYY\")\n",
        "p1.display()"
      ],
      "metadata": {
        "colab": {
          "base_uri": "https://localhost:8080/"
        },
        "id": "pJnk4l0zmf2F",
        "outputId": "d3ff1cd9-04fe-49f9-fe1b-362fbbaad219"
      },
      "execution_count": 5,
      "outputs": [
        {
          "output_type": "stream",
          "name": "stdout",
          "text": [
            "2\n"
          ]
        }
      ]
    }
  ]
}